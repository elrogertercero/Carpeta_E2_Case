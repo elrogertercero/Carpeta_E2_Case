{
 "cells": [
  {
   "cell_type": "markdown",
   "id": "08140ad8",
   "metadata": {},
   "source": [
    "# Calculadora simple\n",
    "El siguiente ejercicio tiene como finalidad mostrar un programa que  contenga una clase, misma que tiene atributos, metodos, propiedades y metodo constructor. "
   ]
  },
  {
   "cell_type": "code",
   "execution_count": 1,
   "id": "ec977024",
   "metadata": {},
   "outputs": [
    {
     "name": "stdout",
     "output_type": "stream",
     "text": [
      "Resultado final: 3.25\n"
     ]
    }
   ],
   "source": [
    "# La clase trata de una calculadora simple a la que se le asignan valores conforme se va ejecutando el programa.\n",
    "\n",
    "class Calculadora:\n",
    "    # Se define un constructor, en este caso, se incializa la variable resultado con un cero.\n",
    "    def __init__(self):\n",
    "        self._resultado = 0\n",
    "\n",
    "    @property\n",
    "    def resultado(self):\n",
    "        # Esta funcion almacena el resultado de las operaciones.\n",
    "        return self._resultado\n",
    "\n",
    "    def sumar(self, numero):\n",
    "        # Definicion para sumar.\n",
    "        self._resultado += numero\n",
    "\n",
    "    def restar(self, numero):\n",
    "        # Definicion para restar.\n",
    "        self._resultado -= numero\n",
    "\n",
    "    def multiplicar(self, numero):\n",
    "        # Definicion para multiplicar.\n",
    "        self._resultado *= numero\n",
    "\n",
    "    def dividir(self, numero):\n",
    "        # Definicion para dividir.\n",
    "        # Se agrega una condicion para establecer que si hay un numero indistinto de cero,\n",
    "        # se efectua la division, de lo contrario arroja un mensaje diciendo que no se puede\n",
    "        # dividir por cero.\n",
    "        if numero != 0:\n",
    "            self._resultado /= numero\n",
    "        else:\n",
    "            print(\"Error: No se puede dividir por cero.\")\n",
    "\n",
    "# Uso de la clase Calculadora\n",
    "# Se usa una variable para referenciar la clase.\n",
    "calc = Calculadora()\n",
    "\n",
    "calc.sumar(5)\n",
    "calc.multiplicar(3)\n",
    "calc.restar(2)\n",
    "calc.dividir(4)\n",
    "\n",
    "print(\"Resultado final:\", calc.resultado)\n"
   ]
  }
 ],
 "metadata": {
  "kernelspec": {
   "display_name": "Python 3 (ipykernel)",
   "language": "python",
   "name": "python3"
  },
  "language_info": {
   "codemirror_mode": {
    "name": "ipython",
    "version": 3
   },
   "file_extension": ".py",
   "mimetype": "text/x-python",
   "name": "python",
   "nbconvert_exporter": "python",
   "pygments_lexer": "ipython3",
   "version": "3.11.5"
  }
 },
 "nbformat": 4,
 "nbformat_minor": 5
}
